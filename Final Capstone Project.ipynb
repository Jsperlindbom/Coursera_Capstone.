{
    "cells": [
        {
            "metadata": {},
            "cell_type": "markdown",
            "source": "Introduction\n\nThis project will investigate where in Stockholm where in stockholm it would be best to open up a restaurant.\nFor this, data on subway stations combined with foursquare venue data will be used in order to find out in what areas of the city the most popular restaurants exists.\n\nIn a city of your choice, if someone is looking to open a restaurant, where would you recommend that they open it?"
        },
        {
            "metadata": {},
            "cell_type": "code",
            "source": "import pandas as pd\nimport numpy as np\npd.set_option('display.max_columns', None)\npd.set_option('display.max_rows', None)",
            "execution_count": 9,
            "outputs": []
        },
        {
            "metadata": {},
            "cell_type": "code",
            "source": "df = pd.read_html('https://sv.wikipedia.org/w/index.php?title=Lista_%C3%B6ver_tunnelbanestationer_i_Stockholm&oldid=46033661',header=0)[0]",
            "execution_count": 13,
            "outputs": []
        },
        {
            "metadata": {},
            "cell_type": "code",
            "source": "df.head()",
            "execution_count": 14,
            "outputs": [
                {
                    "output_type": "execute_result",
                    "execution_count": 14,
                    "data": {
                        "text/plain": "               Namn Linje Invignings\u00e5r Avst\u00e5nd             Kommun  \\\n0           Slussen  Gr\u00f6n         1950      15  Stockholms kommun   \n1  Medborgarplatsen  Gr\u00f6n         1950      21  Stockholms kommun   \n2         Skanstull  Gr\u00f6n         1950      27  Stockholms kommun   \n3      Gullmarsplan  Gr\u00f6n         1950      38  Stockholms kommun   \n4      Sk\u00e4rmarbrink  Gr\u00f6n         1950      45  Stockholms kommun   \n\n                             Stationstyp    Latitud   Longitud  \n0                          Betongstation  18.072327  59.319493  \n1                          Betongstation  18.073550  59.314342  \n2                          Betongstation  18.076229  59.307852  \n3  Ytstation, delvis \u00f6verbyggd av betong  18.080768  59.299114  \n4                              Ytstation  18.090440  59.295366  ",
                        "text/html": "<div>\n<style scoped>\n    .dataframe tbody tr th:only-of-type {\n        vertical-align: middle;\n    }\n\n    .dataframe tbody tr th {\n        vertical-align: top;\n    }\n\n    .dataframe thead th {\n        text-align: right;\n    }\n</style>\n<table border=\"1\" class=\"dataframe\">\n  <thead>\n    <tr style=\"text-align: right;\">\n      <th></th>\n      <th>Namn</th>\n      <th>Linje</th>\n      <th>Invignings\u00e5r</th>\n      <th>Avst\u00e5nd</th>\n      <th>Kommun</th>\n      <th>Stationstyp</th>\n      <th>Latitud</th>\n      <th>Longitud</th>\n    </tr>\n  </thead>\n  <tbody>\n    <tr>\n      <th>0</th>\n      <td>Slussen</td>\n      <td>Gr\u00f6n</td>\n      <td>1950</td>\n      <td>15</td>\n      <td>Stockholms kommun</td>\n      <td>Betongstation</td>\n      <td>18.072327</td>\n      <td>59.319493</td>\n    </tr>\n    <tr>\n      <th>1</th>\n      <td>Medborgarplatsen</td>\n      <td>Gr\u00f6n</td>\n      <td>1950</td>\n      <td>21</td>\n      <td>Stockholms kommun</td>\n      <td>Betongstation</td>\n      <td>18.073550</td>\n      <td>59.314342</td>\n    </tr>\n    <tr>\n      <th>2</th>\n      <td>Skanstull</td>\n      <td>Gr\u00f6n</td>\n      <td>1950</td>\n      <td>27</td>\n      <td>Stockholms kommun</td>\n      <td>Betongstation</td>\n      <td>18.076229</td>\n      <td>59.307852</td>\n    </tr>\n    <tr>\n      <th>3</th>\n      <td>Gullmarsplan</td>\n      <td>Gr\u00f6n</td>\n      <td>1950</td>\n      <td>38</td>\n      <td>Stockholms kommun</td>\n      <td>Ytstation, delvis \u00f6verbyggd av betong</td>\n      <td>18.080768</td>\n      <td>59.299114</td>\n    </tr>\n    <tr>\n      <th>4</th>\n      <td>Sk\u00e4rmarbrink</td>\n      <td>Gr\u00f6n</td>\n      <td>1950</td>\n      <td>45</td>\n      <td>Stockholms kommun</td>\n      <td>Ytstation</td>\n      <td>18.090440</td>\n      <td>59.295366</td>\n    </tr>\n  </tbody>\n</table>\n</div>"
                    },
                    "metadata": {}
                }
            ]
        },
        {
            "metadata": {},
            "cell_type": "code",
            "source": "",
            "execution_count": null,
            "outputs": []
        }
    ],
    "metadata": {
        "kernelspec": {
            "name": "python3",
            "display_name": "Python 3.7",
            "language": "python"
        },
        "language_info": {
            "name": "python",
            "version": "3.7.10",
            "mimetype": "text/x-python",
            "codemirror_mode": {
                "name": "ipython",
                "version": 3
            },
            "pygments_lexer": "ipython3",
            "nbconvert_exporter": "python",
            "file_extension": ".py"
        }
    },
    "nbformat": 4,
    "nbformat_minor": 1
}